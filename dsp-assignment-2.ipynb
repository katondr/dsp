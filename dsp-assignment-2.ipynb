{
 "cells": [
  {
   "cell_type": "markdown",
   "metadata": {},
   "source": [
    "# Assigment 2\n",
    "by Katon D. R. Wibowo (ID: 51934701)<br>\n",
    "Importing required module"
   ]
  },
  {
   "cell_type": "code",
   "execution_count": 1,
   "metadata": {},
   "outputs": [],
   "source": [
    "import numpy as np\n",
    "import pandas as pd\n",
    "from PIL import Image as Pimage\n",
    "#from IPython.display import Image"
   ]
  },
  {
   "cell_type": "markdown",
   "metadata": {},
   "source": [
    "## Part 1: Huffman coding\n",
    "### a. Huffman coding function\n",
    "Numpy was used to create frequency table.<br>Pandas was used to manage array"
   ]
  },
  {
   "cell_type": "code",
   "execution_count": 4,
   "metadata": {},
   "outputs": [],
   "source": [
    "def codebook_generator(data):\n",
    "    #compute a probability table\n",
    "    freq_table = np.array(np.unique(data, return_counts=True))\n",
    "    freq_table = np.transpose(freq_table)\n",
    "    freq_table = pd.DataFrame(freq_table)\n",
    "    freq_table[1] = pd.to_numeric(freq_table[1])\n",
    "    freq_table = freq_table.sort_values(by=1, ascending=False)\n",
    "    #building huffman tree\n",
    "    codebook = freq_table\n",
    "    codebook = codebook.reset_index(drop=True)\n",
    "    codebook[1] = ''\n",
    "    keys = codebook[1]\n",
    "\n",
    "    for i in range(0, len(keys)//2):\n",
    "        b = i*2\n",
    "        keys.loc[b:b+1] = keys.loc[b:b+1] + '0'\n",
    "        keys.loc[b+2:] = keys.loc[b+2:] + '1'\n",
    "        keys.loc[b] = keys.loc[b] + '0'\n",
    "        keys.loc[b+1] = keys.loc[b+1] + '1'\n",
    "\n",
    "    codebook[1] = keys\n",
    "    codebook_list = codebook.values.tolist()\n",
    "    codebook = dict(codebook_list)\n",
    "    return codebook\n",
    "\n",
    "def huffman_encoding(data, codebook):\n",
    "    code = ''\n",
    "    for i in data:\n",
    "        code = code + codebook[i]\n",
    "    return code"
   ]
  },
  {
   "cell_type": "markdown",
   "metadata": {},
   "source": [
    "### b. Huffman decoding function"
   ]
  },
  {
   "cell_type": "code",
   "execution_count": 5,
   "metadata": {},
   "outputs": [],
   "source": [
    "def huffman_decoding(data, codebook):\n",
    "    # flip codebook\n",
    "    codebook = {value:key for key, value in codebook.items()}\n",
    "    \n",
    "    # encode data\n",
    "    \n",
    "    \n",
    "    return data"
   ]
  },
  {
   "cell_type": "markdown",
   "metadata": {},
   "source": [
    "### c. Demonstration"
   ]
  },
  {
   "cell_type": "code",
   "execution_count": 6,
   "metadata": {},
   "outputs": [
    {
     "name": "stderr",
     "output_type": "stream",
     "text": [
      "/home/katon/.local/lib/python3.6/site-packages/pandas/core/indexing.py:670: SettingWithCopyWarning: \n",
      "A value is trying to be set on a copy of a slice from a DataFrame\n",
      "\n",
      "See the caveats in the documentation: https://pandas.pydata.org/pandas-docs/stable/user_guide/indexing.html#returning-a-view-versus-a-copy\n",
      "  self._setitem_with_indexer(indexer, value)\n"
     ]
    }
   ],
   "source": [
    "# sample data\n",
    "data = [114, 20, 114, 114, 110, 12, 117, 85, 114, 118, 114, 114, 114, 6, 70, 71, 93, 102, 72, 114, 114, 53, 117, 74, 117, 114, 114, 14, 102, 14, 117, 114]\n",
    "data = np.array(data)\n",
    "\n",
    "# generating codebook\n",
    "codebook = codebook_generator(data)\n",
    "\n",
    "# encoding data\n",
    "encoded_data = huffman_encoding(data, codebook)\n",
    "\n",
    "# decoding data\n",
    "#decoded_data = huffman_decoding(encoded_data, codebook)"
   ]
  },
  {
   "cell_type": "markdown",
   "metadata": {},
   "source": [
    "## Part 2: Differential and RL coding"
   ]
  },
  {
   "cell_type": "markdown",
   "metadata": {},
   "source": [
    "### a. Differential coding:"
   ]
  },
  {
   "cell_type": "markdown",
   "metadata": {},
   "source": [
    "### encoding"
   ]
  },
  {
   "cell_type": "code",
   "execution_count": 2,
   "metadata": {},
   "outputs": [
    {
     "data": {
      "text/plain": [
       "array([114,  20, 114, 114, 110,  12, 117,  85, 114, 118, 114, 114, 114,\n",
       "         6,  70,  71,  93, 102,  72, 114, 114,  53, 117,  74, 117, 114,\n",
       "       114,  14, 102,  14, 117, 114])"
      ]
     },
     "execution_count": 2,
     "metadata": {},
     "output_type": "execute_result"
    }
   ],
   "source": [
    "def diff_encoding(data):\n",
    "    return code\n",
    "\n",
    "data = [114, 20, 114, 114, 110, 12, 117, 85, 114, 118, 114, 114, 114, 6, 70, 71, 93, 102, 72, 114, 114, 53, 117, 74, 117, 114, 114, 14, 102, 14, 117, 114]\n",
    "data = np.array(data)\n",
    "data\n",
    "#new_text = diff_encoding(data)\n",
    "#new_text"
   ]
  },
  {
   "cell_type": "markdown",
   "metadata": {},
   "source": [
    "### decoding"
   ]
  },
  {
   "cell_type": "code",
   "execution_count": 8,
   "metadata": {},
   "outputs": [],
   "source": [
    "def diff_decoding(code):\n",
    "    return data"
   ]
  },
  {
   "cell_type": "markdown",
   "metadata": {},
   "source": [
    "### b. Run-length coding:"
   ]
  },
  {
   "cell_type": "markdown",
   "metadata": {},
   "source": [
    "### encoding"
   ]
  },
  {
   "cell_type": "code",
   "execution_count": 9,
   "metadata": {},
   "outputs": [],
   "source": [
    "def rl_encoding(data):\n",
    "    return code"
   ]
  },
  {
   "cell_type": "markdown",
   "metadata": {},
   "source": [
    "### decoding"
   ]
  },
  {
   "cell_type": "code",
   "execution_count": 10,
   "metadata": {},
   "outputs": [],
   "source": [
    "def rl_decoding(code):\n",
    "    return data"
   ]
  },
  {
   "cell_type": "markdown",
   "metadata": {},
   "source": [
    "### c. Demonstration"
   ]
  },
  {
   "cell_type": "markdown",
   "metadata": {},
   "source": [
    "### Differential encoding + Huffman encoding\n"
   ]
  },
  {
   "cell_type": "code",
   "execution_count": 11,
   "metadata": {},
   "outputs": [
    {
     "ename": "IndentationError",
     "evalue": "unexpected indent (<ipython-input-11-74ec1a74fbb7>, line 2)",
     "output_type": "error",
     "traceback": [
      "\u001b[0;36m  File \u001b[0;32m\"<ipython-input-11-74ec1a74fbb7>\"\u001b[0;36m, line \u001b[0;32m2\u001b[0m\n\u001b[0;31m    = huffman_encoding()\u001b[0m\n\u001b[0m    ^\u001b[0m\n\u001b[0;31mIndentationError\u001b[0m\u001b[0;31m:\u001b[0m unexpected indent\n"
     ]
    }
   ],
   "source": [
    "# differential encoding\n",
    "data_211 = diff_encoding(data)\n",
    "\n",
    "# huffman encoding\n",
    "codebook_21 = codebook_generator(data_211)\n",
    "data_212 = huffman_encoding(data_211, codebook_21)"
   ]
  },
  {
   "cell_type": "markdown",
   "metadata": {},
   "source": [
    "### RLE + Huffman encoding"
   ]
  },
  {
   "cell_type": "code",
   "execution_count": null,
   "metadata": {},
   "outputs": [],
   "source": [
    "# run-length encoding\n",
    "data_221 = rl_encoding(data)\n",
    "\n",
    "# huffmann encoding\n",
    "codebook_22 = codebook_generator(data_221)\n",
    "data_222 = huffman_encoding(data_221, codebook_22)"
   ]
  },
  {
   "cell_type": "markdown",
   "metadata": {},
   "source": [
    "### Diffrential encoding + RLE + Huffman encoding"
   ]
  },
  {
   "cell_type": "code",
   "execution_count": null,
   "metadata": {},
   "outputs": [],
   "source": [
    "# differential encoding\n",
    "data_231 = diff_encoding(data)\n",
    "\n",
    "# run-length encoding\n",
    "data_232 = rl_encoding(data_231)\n",
    "\n",
    "# huffman encoding\n",
    "codebook_23 = codebook_generator(data_232)\n",
    "data_233 = huffman_encoding(data_232, codebook_23)"
   ]
  },
  {
   "cell_type": "markdown",
   "metadata": {},
   "source": [
    "# Part 3: Image Coding"
   ]
  },
  {
   "cell_type": "code",
   "execution_count": 22,
   "metadata": {},
   "outputs": [
    {
     "data": {
      "text/plain": [
       "array([[   39,   180],\n",
       "       [   40,  4215],\n",
       "       [   41,   115],\n",
       "       [   52,   262],\n",
       "       [   53, 32136],\n",
       "       [   54,   151],\n",
       "       [   72,   270],\n",
       "       [   73,  5760],\n",
       "       [   74,   236],\n",
       "       [   77,   521],\n",
       "       [   78,  7365],\n",
       "       [   79,   293],\n",
       "       [  109,  1339],\n",
       "       [  110, 25886],\n",
       "       [  111,  1164],\n",
       "       [  146,   795],\n",
       "       [  147, 16518],\n",
       "       [  148,   803],\n",
       "       [  179,   809],\n",
       "       [  180, 21597],\n",
       "       [  181,   834],\n",
       "       [  230,   943],\n",
       "       [  231, 50148],\n",
       "       [  232,  1660]])"
      ]
     },
     "execution_count": 22,
     "metadata": {},
     "output_type": "execute_result"
    }
   ],
   "source": [
    "# image\n",
    "#img = 'sample.png'\n",
    "img = 'Lhotse_Mountain_8-Bit_Grayscale.jpg'\n",
    "\n",
    "# reading image / convert to numpy array\n",
    "im = np.asarray(Pimage.open(img))\n",
    "im = im.flatten()\n",
    "\n",
    "# differential encoding\n",
    "#data_31 = diff_encoding(im)\n",
    "\n",
    "# run-length encoding\n",
    "#data_32 = rl_encoding(data_31)\n",
    "\n",
    "# huffman encoding\n",
    "#codebook_3 = codebook_generator(data_32)\n",
    "#code_3 = huffman_encoding(data_32, codebook_3)\n",
    "\n",
    "freq_table = np.array(np.unique(im, return_counts=True))\n",
    "freq_table = np.transpose(freq_table)\n",
    "freq_table\n",
    "#im.shape\n",
    "#print(code_3.shape"
   ]
  },
  {
   "cell_type": "code",
   "execution_count": null,
   "metadata": {},
   "outputs": [],
   "source": []
  },
  {
   "cell_type": "code",
   "execution_count": null,
   "metadata": {},
   "outputs": [],
   "source": []
  },
  {
   "cell_type": "code",
   "execution_count": null,
   "metadata": {},
   "outputs": [],
   "source": []
  },
  {
   "cell_type": "code",
   "execution_count": null,
   "metadata": {},
   "outputs": [],
   "source": []
  },
  {
   "cell_type": "code",
   "execution_count": null,
   "metadata": {},
   "outputs": [],
   "source": []
  },
  {
   "cell_type": "code",
   "execution_count": null,
   "metadata": {},
   "outputs": [],
   "source": []
  },
  {
   "cell_type": "code",
   "execution_count": null,
   "metadata": {},
   "outputs": [],
   "source": []
  }
 ],
 "metadata": {
  "kernelspec": {
   "display_name": "Python 3",
   "language": "python",
   "name": "python3"
  },
  "language_info": {
   "codemirror_mode": {
    "name": "ipython",
    "version": 3
   },
   "file_extension": ".py",
   "mimetype": "text/x-python",
   "name": "python",
   "nbconvert_exporter": "python",
   "pygments_lexer": "ipython3",
   "version": "3.6.9"
  }
 },
 "nbformat": 4,
 "nbformat_minor": 4
}
