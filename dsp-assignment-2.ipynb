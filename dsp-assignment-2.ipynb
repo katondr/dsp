{
 "cells": [
  {
   "cell_type": "markdown",
   "metadata": {},
   "source": [
    "# Assigment 2\n",
    "by Katon D. R. Wibowo (ID: 51934701)<br>\n",
    "<br>\n",
    "This created by Jupyter Notebook<br>\n",
    "Please visit https://github.com/katondr/dsp/blob/master/dsp-assignment-2.ipynb (Github will run the code)<br>\n",
    "<br>\n",
    "Importing required module"
   ]
  },
  {
   "cell_type": "code",
   "execution_count": 126,
   "metadata": {},
   "outputs": [],
   "source": [
    "import numpy as np\n",
    "import heapq\n",
    "#import os\n",
    "#from collections import defaultdict\n",
    "from PIL import Image as Pimage\n",
    "\n",
    "#from IPython.display import Image"
   ]
  },
  {
   "cell_type": "markdown",
   "metadata": {},
   "source": [
    "## Part 1: Huffman coding\n",
    "### a. Huffman coding function"
   ]
  },
  {
   "cell_type": "code",
   "execution_count": 21,
   "metadata": {},
   "outputs": [],
   "source": [
    "def frequency_table(data):\n",
    "    freq_table = np.array(np.unique(data, return_counts=True))\n",
    "    freq_table = np.transpose(freq_table)\n",
    "    return dict(freq_table)\n",
    "\n",
    "def codebook_generator(frequency):\n",
    "    heap = [[weight, [symbol, '']] for symbol, weight in frequency.items()]\n",
    "    heapq.heapify(heap)\n",
    "    while len(heap) > 1:\n",
    "        low = heapq.heappop(heap)\n",
    "\n",
    "        high = heapq.heappop(heap)\n",
    "\n",
    "        for value in low[1:]:\n",
    "\n",
    "            value[1] = '0' + value[1]\n",
    "\n",
    "        for value in high[1:]:\n",
    "\n",
    "            value[1] = '1' +value[1]\n",
    "\n",
    "        heapq.heappush(heap, [low[0] + high[0]] + low[1:] + high[1:])\n",
    "\n",
    "    return dict(sorted(heapq.heappop(heap)[1:], key=lambda p: (len(p[-1]), p)))\n",
    "\n",
    "def huffman_encoding(data, codebook):\n",
    "    code = ''\n",
    "    for i in data:\n",
    "        code = code + codebook[i]\n",
    "    return code"
   ]
  },
  {
   "cell_type": "markdown",
   "metadata": {},
   "source": [
    "### b. Huffman decoding function"
   ]
  },
  {
   "cell_type": "code",
   "execution_count": 23,
   "metadata": {},
   "outputs": [],
   "source": [
    "def huffman_decoding(encoded_data, codebook):\n",
    "    data = encoded_data\n",
    "    codebook = {value:key for key, value in codebook.items()}\n",
    "    decoded_data = []\n",
    "    c = 0\n",
    "    l = 1\n",
    "    while len(data) != 0:\n",
    "        if data[c:l] in codebook:\n",
    "            decoded_data.append(codebook[data[c:l]])\n",
    "            data = data[l:]\n",
    "            l = 1\n",
    "        else:\n",
    "            l = l + 1\n",
    "    return decoded_data"
   ]
  },
  {
   "cell_type": "markdown",
   "metadata": {},
   "source": [
    "### c. Demonstration"
   ]
  },
  {
   "cell_type": "code",
   "execution_count": 96,
   "metadata": {},
   "outputs": [
    {
     "name": "stdout",
     "output_type": "stream",
     "text": [
      "Frequency Table\n",
      "{6: 1, 12: 1, 14: 2, 20: 1, 53: 1, 70: 1, 71: 1, 72: 1, 74: 1, 85: 1, 93: 1, 102: 2, 110: 1, 114: 12, 117: 4, 118: 1}\n",
      "\n",
      "Codebook\n",
      "{114: '11', 117: '00', 14: '0101', 102: '1010', 6: '01000', 12: '01001', 20: '01100', 53: '01101', 70: '01110', 71: '01111', 72: '10000', 74: '10001', 85: '10010', 93: '10011', 110: '10110', 118: '10111'}\n",
      "\n",
      "Encoded Data\n",
      "110110011111011001001001001011101111111110100001110011111001110101000011110110100100010011110101101001010011\n",
      "\n",
      "Is data converted back corectly?\n",
      "True\n"
     ]
    }
   ],
   "source": [
    "# sample data & convertion to numpy array\n",
    "sample = [114, 20, 114, 114, 110, 12, 117, 85, 114, 118, 114, 114, 114, 6, 70, 71, 93, 102, 72, 114, 114, 53, 117, 74, 117, 114, 114, 14, 102, 14, 117, 114]\n",
    "data = np.array(sample)\n",
    "\n",
    "# create frequency table\n",
    "frequency = frequency_table(data)\n",
    "\n",
    "# generating codebook\n",
    "codebook = codebook_generator(frequency)\n",
    "\n",
    "# encoding data\n",
    "encoded_data = huffman_encoding(data, codebook)  \n",
    "\n",
    "# decoding data\n",
    "decoded_data = huffman_decoding(encoded_data, codebook)\n",
    "\n",
    "# verify function\n",
    "print('Frequency Table')\n",
    "print(frequency)\n",
    "print('')\n",
    "print('Codebook')\n",
    "print(codebook)\n",
    "print('')\n",
    "print('Encoded Data')\n",
    "print(encoded_data)\n",
    "print('')\n",
    "print('Is data converted back corectly?')\n",
    "print(decoded_data == sample)"
   ]
  },
  {
   "cell_type": "markdown",
   "metadata": {},
   "source": [
    "## Part 2: Differential and RL coding"
   ]
  },
  {
   "cell_type": "markdown",
   "metadata": {},
   "source": [
    "### a. Differential coding:"
   ]
  },
  {
   "cell_type": "markdown",
   "metadata": {},
   "source": [
    "### encoding"
   ]
  },
  {
   "cell_type": "code",
   "execution_count": 106,
   "metadata": {},
   "outputs": [],
   "source": [
    "def diff_encoding(data):\n",
    "    encoded = []\n",
    "    encoded.append(data[0])\n",
    "    while len(data) != 1:\n",
    "        if data[1] - encoded[0] > 0:\n",
    "            encoded.append(257)\n",
    "            encoded.append(data[1] - encoded[0])\n",
    "        else:\n",
    "            encoded.append(258)\n",
    "            encoded.append(encoded[0] - data[1])\n",
    "        data = data[1:]\n",
    "    return encoded"
   ]
  },
  {
   "cell_type": "markdown",
   "metadata": {},
   "source": [
    "### decoding"
   ]
  },
  {
   "cell_type": "code",
   "execution_count": 107,
   "metadata": {},
   "outputs": [],
   "source": [
    "def diff_decoding(code):\n",
    "    decoded = []\n",
    "    data = code\n",
    "    while len(data) != 0:\n",
    "        if data[0] == 257:\n",
    "            decoded.append(code[0] + data[1])\n",
    "            data = data[2:]\n",
    "        elif data[0] == 258:\n",
    "            decoded.append(code[0] - data[1])\n",
    "            data = data[2:]\n",
    "        else:\n",
    "            decoded.append(data[0])\n",
    "            data = data[1:]\n",
    "    return data"
   ]
  },
  {
   "cell_type": "markdown",
   "metadata": {},
   "source": [
    "### b. Run-length coding:"
   ]
  },
  {
   "cell_type": "markdown",
   "metadata": {},
   "source": [
    "### encoding"
   ]
  },
  {
   "cell_type": "code",
   "execution_count": 76,
   "metadata": {},
   "outputs": [],
   "source": [
    "def rl_encoding(data):\n",
    "    rl_encoded = []\n",
    "    while len(data) != 2:\n",
    "        c = 0\n",
    "        l = 1\n",
    "        r = 1\n",
    "        while data[c] == data[l]:\n",
    "            l = l + 1\n",
    "            r = r + 1\n",
    "        if r > 3:\n",
    "            rl_encoded.append(256)\n",
    "            rl_encoded.append(data[c])\n",
    "            rl_encoded.append(r)\n",
    "        elif r <= 3:\n",
    "            for i in data[c:l]:\n",
    "                rl_encoded.append(i)\n",
    "        data = data[l:]\n",
    "    for i in data:\n",
    "        rl_encoded.append(i)\n",
    "    return rl_encoded"
   ]
  },
  {
   "cell_type": "markdown",
   "metadata": {},
   "source": [
    "### decoding"
   ]
  },
  {
   "cell_type": "code",
   "execution_count": 79,
   "metadata": {},
   "outputs": [],
   "source": [
    "def rl_decoding(data):\n",
    "    decoded = []\n",
    "    while len(data) != 0:\n",
    "        if data[0] == 256:\n",
    "            for i in range(0, data[2]):\n",
    "                decoded.append(data[1])\n",
    "        else:\n",
    "            decoded.append(data[0])\n",
    "        data = data[1:]\n",
    "    return decoded"
   ]
  },
  {
   "cell_type": "markdown",
   "metadata": {},
   "source": [
    "### c. Demonstration"
   ]
  },
  {
   "cell_type": "markdown",
   "metadata": {},
   "source": [
    "### Differential encoding + Huffman encoding\n"
   ]
  },
  {
   "cell_type": "code",
   "execution_count": 121,
   "metadata": {},
   "outputs": [
    {
     "name": "stdout",
     "output_type": "stream",
     "text": [
      "193\n",
      "108\n"
     ]
    }
   ],
   "source": [
    "sample = [114, 20, 114, 114, 110, 12, 117, 85, 114, 118, 114, 114, 114, 6, 70, 71, 93, 102, 72, 114, 114, 53, 117, 74, 117, 114, 114, 14, 102, 14, 117, 114]\n",
    "data = np.array(sample)\n",
    "\n",
    "# differential encoding\n",
    "data_211 = diff_encoding(data)\n",
    "\n",
    "# huffman encoding\n",
    "frequency_table_211 = frequency_table(data_211)\n",
    "codebook_21 = codebook_generator(frequency_table_211)\n",
    "data_212 = huffman_encoding(data_211, codebook_21)"
   ]
  },
  {
   "cell_type": "markdown",
   "metadata": {},
   "source": [
    "### RLE + Huffman encoding"
   ]
  },
  {
   "cell_type": "code",
   "execution_count": 101,
   "metadata": {},
   "outputs": [
    {
     "data": {
      "text/plain": [
       "'110110011111011001001001001011101111111110100001110011111001110101000011110110100100010011110101101001010011'"
      ]
     },
     "execution_count": 101,
     "metadata": {},
     "output_type": "execute_result"
    }
   ],
   "source": [
    "# run-length encoding\n",
    "data_221 = rl_encoding(data)\n",
    "\n",
    "# huffmann (encoding\n",
    "frequency_221 = frequency_table(data_221)\n",
    "codebook_22 = codebook_generator(frequency_221)\n",
    "data_222 = huffman_encoding(data_221, codebook_22)\n",
    "data_222"
   ]
  },
  {
   "cell_type": "markdown",
   "metadata": {},
   "source": [
    "### Diffrential encoding + RLE + Huffman encoding"
   ]
  },
  {
   "cell_type": "code",
   "execution_count": 125,
   "metadata": {},
   "outputs": [
    {
     "name": "stdout",
     "output_type": "stream",
     "text": [
      "193\n",
      "108\n"
     ]
    }
   ],
   "source": [
    "# differential encoding\n",
    "data_231 = diff_encoding(data)\n",
    "\n",
    "# run-length encoding\n",
    "data_232 = rl_encoding(data_231)\n",
    "\n",
    "# huffman encoding\n",
    "frequency_23 = frequency_table(data_232)\n",
    "codebook_23 = codebook_generator(frequency_23)\n",
    "data_233 = huffman_encoding(data_232, codebook_23)\n",
    "print(len(data_233))\n",
    "print(len(encoded_data))"
   ]
  },
  {
   "cell_type": "markdown",
   "metadata": {},
   "source": [
    "# Part 3: Image Coding"
   ]
  },
  {
   "cell_type": "code",
   "execution_count": 137,
   "metadata": {},
   "outputs": [
    {
     "name": "stderr",
     "output_type": "stream",
     "text": [
      "/home/katon/.local/lib/python3.6/site-packages/ipykernel_launcher.py:5: RuntimeWarning: overflow encountered in ubyte_scalars\n",
      "  \"\"\"\n",
      "/home/katon/.local/lib/python3.6/site-packages/ipykernel_launcher.py:7: RuntimeWarning: overflow encountered in ubyte_scalars\n",
      "  import sys\n"
     ]
    },
    {
     "data": {
      "text/plain": [
       "382"
      ]
     },
     "execution_count": 137,
     "metadata": {},
     "output_type": "execute_result"
    }
   ],
   "source": [
    "# image\n",
    "img = 'sample.png'\n",
    "#img = 'Lhotse_Mountain_8-Bit_Grayscale.jpg'\n",
    "\n",
    "# reading image / convert to numpy array\n",
    "im = np.asarray(Pimage.open(img))\n",
    "im = im.flatten()\n",
    "\n",
    "# differential encoding\n",
    "data_31 = diff_encoding(im)\n",
    "\n",
    "# run-length encoding\n",
    "data_32 = rl_encoding(data_31)\n",
    "\n",
    "# huffman encoding\n",
    "frequency_3 = frequency_table(data_32)\n",
    "codebook_3 = codebook_generator(frequency_3)\n",
    "data_3 = huffman_encoding(data_32, codebook_3)\n",
    "#im.shape\n",
    "len(data_3)"
   ]
  },
  {
   "cell_type": "code",
   "execution_count": null,
   "metadata": {},
   "outputs": [],
   "source": []
  },
  {
   "cell_type": "code",
   "execution_count": null,
   "metadata": {},
   "outputs": [],
   "source": []
  },
  {
   "cell_type": "code",
   "execution_count": null,
   "metadata": {},
   "outputs": [],
   "source": []
  },
  {
   "cell_type": "code",
   "execution_count": null,
   "metadata": {},
   "outputs": [],
   "source": []
  },
  {
   "cell_type": "code",
   "execution_count": null,
   "metadata": {},
   "outputs": [],
   "source": []
  },
  {
   "cell_type": "code",
   "execution_count": null,
   "metadata": {},
   "outputs": [],
   "source": []
  },
  {
   "cell_type": "code",
   "execution_count": null,
   "metadata": {},
   "outputs": [],
   "source": []
  }
 ],
 "metadata": {
  "kernelspec": {
   "display_name": "Python 3",
   "language": "python",
   "name": "python3"
  },
  "language_info": {
   "codemirror_mode": {
    "name": "ipython",
    "version": 3
   },
   "file_extension": ".py",
   "mimetype": "text/x-python",
   "name": "python",
   "nbconvert_exporter": "python",
   "pygments_lexer": "ipython3",
   "version": "3.6.9"
  }
 },
 "nbformat": 4,
 "nbformat_minor": 4
}
