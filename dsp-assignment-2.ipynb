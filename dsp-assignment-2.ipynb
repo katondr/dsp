{
 "cells": [
  {
   "cell_type": "markdown",
   "metadata": {},
   "source": [
    "# Assigment 2\n",
    "by Katon D. R. Wibowo (ID: 51934701)<br>\n",
    "<br>\n",
    "This created by Jupyter Notebook<br>\n",
    "Please visit https://github.com/katondr/dsp/blob/master/dsp-assignment-2.ipynb (Github will run the code)<br>\n",
    "<br>\n",
    "Importing required module"
   ]
  },
  {
   "cell_type": "code",
   "execution_count": 34,
   "metadata": {},
   "outputs": [],
   "source": [
    "import numpy as np\n",
    "import heapq\n",
    "#import os\n",
    "#from collections import defaultdict\n",
    "#from PIL import Image as Pimage\n",
    "\n",
    "#from IPython.display import Image"
   ]
  },
  {
   "cell_type": "markdown",
   "metadata": {},
   "source": [
    "## Part 1: Huffman coding\n",
    "### a. Huffman coding function\n",
    "Numpy was used to create frequency table.<br>Pandas was used to manage array"
   ]
  },
  {
   "cell_type": "code",
   "execution_count": 21,
   "metadata": {},
   "outputs": [],
   "source": [
    "def frequency_table(data):\n",
    "    freq_table = np.array(np.unique(data, return_counts=True))\n",
    "    freq_table = np.transpose(freq_table)\n",
    "    return dict(freq_table)\n",
    "\n",
    "def codebook_generator(frequency):\n",
    "    heap = [[weight, [symbol, '']] for symbol, weight in frequency.items()]\n",
    "    heapq.heapify(heap)\n",
    "    while len(heap) > 1:\n",
    "        low = heapq.heappop(heap)\n",
    "\n",
    "        high = heapq.heappop(heap)\n",
    "\n",
    "        for value in low[1:]:\n",
    "\n",
    "            value[1] = '0' + value[1]\n",
    "\n",
    "        for value in high[1:]:\n",
    "\n",
    "            value[1] = '1' +value[1]\n",
    "\n",
    "        heapq.heappush(heap, [low[0] + high[0]] + low[1:] + high[1:])\n",
    "\n",
    "    return dict(sorted(heapq.heappop(heap)[1:], key=lambda p: (len(p[-1]), p)))\n",
    "\n",
    "def huffman_encoding(data, codebook):\n",
    "    code = ''\n",
    "    for i in data:\n",
    "        code = code + codebook[i]\n",
    "    return code"
   ]
  },
  {
   "cell_type": "markdown",
   "metadata": {},
   "source": [
    "### b. Huffman decoding function"
   ]
  },
  {
   "cell_type": "code",
   "execution_count": 23,
   "metadata": {},
   "outputs": [],
   "source": [
    "def huffman_decoding(encoded_data, codebook):\n",
    "    data = encoded_data\n",
    "    codebook = {value:key for key, value in codebook.items()}\n",
    "    decoded_data = []\n",
    "    c = 0\n",
    "    l = 1\n",
    "    while len(data) != 0:\n",
    "        if data[c:l] in codebook:\n",
    "            decoded_data.append(codebook[data[c:l]])\n",
    "            data = data[l:]\n",
    "            l = 1\n",
    "        else:\n",
    "            l = l + 1\n",
    "    return decoded_data"
   ]
  },
  {
   "cell_type": "markdown",
   "metadata": {},
   "source": [
    "### c. Demonstration"
   ]
  },
  {
   "cell_type": "code",
   "execution_count": 40,
   "metadata": {},
   "outputs": [
    {
     "name": "stdout",
     "output_type": "stream",
     "text": [
      "Frequency Table\n",
      "{6: 1, 12: 1, 14: 2, 20: 1, 53: 1, 70: 1, 71: 1, 72: 1, 74: 1, 85: 1, 93: 1, 102: 2, 110: 1, 114: 12, 117: 4, 118: 1}\n",
      "\n",
      "Codebook\n",
      "{114: '11', 117: '00', 14: '0101', 102: '1010', 6: '01000', 12: '01001', 20: '01100', 53: '01101', 70: '01110', 71: '01111', 72: '10000', 74: '10001', 85: '10010', 93: '10011', 110: '10110', 118: '10111'}\n",
      "\n",
      "Encoded Data\n",
      "110110011111011001001001001011101111111110100001110011111001110101000011110110100100010011110101101001010011\n",
      "\n",
      "Is data converted back corectly?\n",
      "True\n"
     ]
    }
   ],
   "source": [
    "# sample data & convertion to numpy array\n",
    "sample = [114, 20, 114, 114, 110, 12, 117, 85, 114, 118, 114, 114, 114, 6, 70, 71, 93, 102, 72, 114, 114, 53, 117, 74, 117, 114, 114, 14, 102, 14, 117, 114]\n",
    "data = np.array(sample)\n",
    "\n",
    "# create frequency table\n",
    "frequency = frequency_table(data)\n",
    "\n",
    "# generating codebook\n",
    "codebook = codebook_generator(frequency)\n",
    "\n",
    "# encoding data\n",
    "encoded_data = huffman_encoding(data, codebook)  \n",
    "\n",
    "# decoding data\n",
    "decoded_data = huffman_decoding(encoded_data, codebook)\n",
    "\n",
    "# verify function\n",
    "print('Frequency Table')\n",
    "print(frequency)\n",
    "print('')\n",
    "print('Codebook')\n",
    "print(codebook)\n",
    "print('')\n",
    "print('Encoded Data')\n",
    "print(encoded_data)\n",
    "print('')\n",
    "print('Is data converted back corectly?')\n",
    "print(decoded_data == sample)"
   ]
  },
  {
   "cell_type": "markdown",
   "metadata": {},
   "source": [
    "## Part 2: Differential and RL coding"
   ]
  },
  {
   "cell_type": "markdown",
   "metadata": {},
   "source": [
    "### a. Differential coding:"
   ]
  },
  {
   "cell_type": "markdown",
   "metadata": {},
   "source": [
    "### encoding"
   ]
  },
  {
   "cell_type": "code",
   "execution_count": 61,
   "metadata": {},
   "outputs": [
    {
     "data": {
      "text/plain": [
       "array([114,  20, 114, 114, 110,  12, 117,  85, 114, 118, 114, 114, 114,\n",
       "         6,  70,  71,  93, 102,  72, 114, 114,  53, 117,  74, 117, 114,\n",
       "       114,  14, 102,  14, 117, 114])"
      ]
     },
     "execution_count": 61,
     "metadata": {},
     "output_type": "execute_result"
    }
   ],
   "source": [
    "def diff_encoding(data):\n",
    "    return code\n",
    "\n",
    "data = [114, 20, 114, 114, 110, 12, 117, 85, 114, 118, 114, 114, 114, 6, 70, 71, 93, 102, 72, 114, 114, 53, 117, 74, 117, 114, 114, 14, 102, 14, 117, 114]\n",
    "data = np.array(data)\n",
    "data\n",
    "#new_text = diff_encoding(data)\n",
    "#new_text"
   ]
  },
  {
   "cell_type": "markdown",
   "metadata": {},
   "source": [
    "### decoding"
   ]
  },
  {
   "cell_type": "code",
   "execution_count": 62,
   "metadata": {},
   "outputs": [],
   "source": [
    "def diff_decoding(code):\n",
    "    return data"
   ]
  },
  {
   "cell_type": "markdown",
   "metadata": {},
   "source": [
    "### b. Run-length coding:"
   ]
  },
  {
   "cell_type": "markdown",
   "metadata": {},
   "source": [
    "### encoding"
   ]
  },
  {
   "cell_type": "code",
   "execution_count": 63,
   "metadata": {},
   "outputs": [],
   "source": [
    "def rl_encoding(data):\n",
    "    return code"
   ]
  },
  {
   "cell_type": "markdown",
   "metadata": {},
   "source": [
    "### decoding"
   ]
  },
  {
   "cell_type": "code",
   "execution_count": 64,
   "metadata": {},
   "outputs": [],
   "source": [
    "def rl_decoding(code):\n",
    "    return data"
   ]
  },
  {
   "cell_type": "markdown",
   "metadata": {},
   "source": [
    "### c. Demonstration"
   ]
  },
  {
   "cell_type": "markdown",
   "metadata": {},
   "source": [
    "### Differential encoding + Huffman encoding\n"
   ]
  },
  {
   "cell_type": "code",
   "execution_count": 65,
   "metadata": {},
   "outputs": [
    {
     "ename": "NameError",
     "evalue": "name 'code' is not defined",
     "output_type": "error",
     "traceback": [
      "\u001b[0;31m---------------------------------------------------------------------------\u001b[0m",
      "\u001b[0;31mNameError\u001b[0m                                 Traceback (most recent call last)",
      "\u001b[0;32m<ipython-input-65-28e7025c1d8d>\u001b[0m in \u001b[0;36m<module>\u001b[0;34m\u001b[0m\n\u001b[1;32m      1\u001b[0m \u001b[0;31m# differential encoding\u001b[0m\u001b[0;34m\u001b[0m\u001b[0;34m\u001b[0m\u001b[0;34m\u001b[0m\u001b[0m\n\u001b[0;32m----> 2\u001b[0;31m \u001b[0mdata_211\u001b[0m \u001b[0;34m=\u001b[0m \u001b[0mdiff_encoding\u001b[0m\u001b[0;34m(\u001b[0m\u001b[0mdata\u001b[0m\u001b[0;34m)\u001b[0m\u001b[0;34m\u001b[0m\u001b[0;34m\u001b[0m\u001b[0m\n\u001b[0m\u001b[1;32m      3\u001b[0m \u001b[0;34m\u001b[0m\u001b[0m\n\u001b[1;32m      4\u001b[0m \u001b[0;31m# huffman encoding\u001b[0m\u001b[0;34m\u001b[0m\u001b[0;34m\u001b[0m\u001b[0;34m\u001b[0m\u001b[0m\n\u001b[1;32m      5\u001b[0m \u001b[0mcodebook_21\u001b[0m \u001b[0;34m=\u001b[0m \u001b[0mcodebook_generator\u001b[0m\u001b[0;34m(\u001b[0m\u001b[0mdata_211\u001b[0m\u001b[0;34m)\u001b[0m\u001b[0;34m\u001b[0m\u001b[0;34m\u001b[0m\u001b[0m\n",
      "\u001b[0;32m<ipython-input-61-90d1c9b4d6ef>\u001b[0m in \u001b[0;36mdiff_encoding\u001b[0;34m(data)\u001b[0m\n\u001b[1;32m      1\u001b[0m \u001b[0;32mdef\u001b[0m \u001b[0mdiff_encoding\u001b[0m\u001b[0;34m(\u001b[0m\u001b[0mdata\u001b[0m\u001b[0;34m)\u001b[0m\u001b[0;34m:\u001b[0m\u001b[0;34m\u001b[0m\u001b[0;34m\u001b[0m\u001b[0m\n\u001b[0;32m----> 2\u001b[0;31m     \u001b[0;32mreturn\u001b[0m \u001b[0mcode\u001b[0m\u001b[0;34m\u001b[0m\u001b[0;34m\u001b[0m\u001b[0m\n\u001b[0m\u001b[1;32m      3\u001b[0m \u001b[0;34m\u001b[0m\u001b[0m\n\u001b[1;32m      4\u001b[0m \u001b[0mdata\u001b[0m \u001b[0;34m=\u001b[0m \u001b[0;34m[\u001b[0m\u001b[0;36m114\u001b[0m\u001b[0;34m,\u001b[0m \u001b[0;36m20\u001b[0m\u001b[0;34m,\u001b[0m \u001b[0;36m114\u001b[0m\u001b[0;34m,\u001b[0m \u001b[0;36m114\u001b[0m\u001b[0;34m,\u001b[0m \u001b[0;36m110\u001b[0m\u001b[0;34m,\u001b[0m \u001b[0;36m12\u001b[0m\u001b[0;34m,\u001b[0m \u001b[0;36m117\u001b[0m\u001b[0;34m,\u001b[0m \u001b[0;36m85\u001b[0m\u001b[0;34m,\u001b[0m \u001b[0;36m114\u001b[0m\u001b[0;34m,\u001b[0m \u001b[0;36m118\u001b[0m\u001b[0;34m,\u001b[0m \u001b[0;36m114\u001b[0m\u001b[0;34m,\u001b[0m \u001b[0;36m114\u001b[0m\u001b[0;34m,\u001b[0m \u001b[0;36m114\u001b[0m\u001b[0;34m,\u001b[0m \u001b[0;36m6\u001b[0m\u001b[0;34m,\u001b[0m \u001b[0;36m70\u001b[0m\u001b[0;34m,\u001b[0m \u001b[0;36m71\u001b[0m\u001b[0;34m,\u001b[0m \u001b[0;36m93\u001b[0m\u001b[0;34m,\u001b[0m \u001b[0;36m102\u001b[0m\u001b[0;34m,\u001b[0m \u001b[0;36m72\u001b[0m\u001b[0;34m,\u001b[0m \u001b[0;36m114\u001b[0m\u001b[0;34m,\u001b[0m \u001b[0;36m114\u001b[0m\u001b[0;34m,\u001b[0m \u001b[0;36m53\u001b[0m\u001b[0;34m,\u001b[0m \u001b[0;36m117\u001b[0m\u001b[0;34m,\u001b[0m \u001b[0;36m74\u001b[0m\u001b[0;34m,\u001b[0m \u001b[0;36m117\u001b[0m\u001b[0;34m,\u001b[0m \u001b[0;36m114\u001b[0m\u001b[0;34m,\u001b[0m \u001b[0;36m114\u001b[0m\u001b[0;34m,\u001b[0m \u001b[0;36m14\u001b[0m\u001b[0;34m,\u001b[0m \u001b[0;36m102\u001b[0m\u001b[0;34m,\u001b[0m \u001b[0;36m14\u001b[0m\u001b[0;34m,\u001b[0m \u001b[0;36m117\u001b[0m\u001b[0;34m,\u001b[0m \u001b[0;36m114\u001b[0m\u001b[0;34m]\u001b[0m\u001b[0;34m\u001b[0m\u001b[0;34m\u001b[0m\u001b[0m\n\u001b[1;32m      5\u001b[0m \u001b[0mdata\u001b[0m \u001b[0;34m=\u001b[0m \u001b[0mnp\u001b[0m\u001b[0;34m.\u001b[0m\u001b[0marray\u001b[0m\u001b[0;34m(\u001b[0m\u001b[0mdata\u001b[0m\u001b[0;34m)\u001b[0m\u001b[0;34m\u001b[0m\u001b[0;34m\u001b[0m\u001b[0m\n",
      "\u001b[0;31mNameError\u001b[0m: name 'code' is not defined"
     ]
    }
   ],
   "source": [
    "# differential encoding\n",
    "data_211 = diff_encoding(data)\n",
    "\n",
    "# huffman encoding\n",
    "codebook_21 = codebook_generator(data_211)\n",
    "data_212 = huffman_encoding(data_211, codebook_21)"
   ]
  },
  {
   "cell_type": "markdown",
   "metadata": {},
   "source": [
    "### RLE + Huffman encoding"
   ]
  },
  {
   "cell_type": "code",
   "execution_count": null,
   "metadata": {},
   "outputs": [],
   "source": [
    "# run-length encoding\n",
    "data_221 = rl_encoding(data)\n",
    "\n",
    "# huffmann encoding\n",
    "codebook_22 = codebook_generator(data_221)\n",
    "data_222 = huffman_encoding(data_221, codebook_22)"
   ]
  },
  {
   "cell_type": "markdown",
   "metadata": {},
   "source": [
    "### Diffrential encoding + RLE + Huffman encoding"
   ]
  },
  {
   "cell_type": "code",
   "execution_count": null,
   "metadata": {},
   "outputs": [],
   "source": [
    "# differential encoding\n",
    "data_231 = diff_encoding(data)\n",
    "\n",
    "# run-length encoding\n",
    "data_232 = rl_encoding(data_231)\n",
    "\n",
    "# huffman encoding\n",
    "codebook_23 = codebook_generator(data_232)\n",
    "data_233 = huffman_encoding(data_232, codebook_23)"
   ]
  },
  {
   "cell_type": "markdown",
   "metadata": {},
   "source": [
    "# Part 3: Image Coding"
   ]
  },
  {
   "cell_type": "code",
   "execution_count": null,
   "metadata": {},
   "outputs": [],
   "source": [
    "# image\n",
    "#img = 'sample.png'\n",
    "img = 'Lhotse_Mountain_8-Bit_Grayscale.jpg'\n",
    "\n",
    "# reading image / convert to numpy array\n",
    "im = np.asarray(Pimage.open(img))\n",
    "im = im.flatten()\n",
    "\n",
    "# differential encoding\n",
    "#data_31 = diff_encoding(im)\n",
    "\n",
    "# run-length encoding\n",
    "#data_32 = rl_encoding(data_31)\n",
    "\n",
    "# huffman encoding\n",
    "#codebook_3 = codebook_generator(data_32)\n",
    "#code_3 = huffman_encoding(data_32, codebook_3)\n",
    "\n",
    "freq_table = np.array(np.unique(im, return_counts=True))\n",
    "freq_table = np.transpose(freq_table)\n",
    "freq_table\n",
    "#im.shape\n",
    "#print(code_3.shape"
   ]
  },
  {
   "cell_type": "code",
   "execution_count": null,
   "metadata": {},
   "outputs": [],
   "source": []
  },
  {
   "cell_type": "code",
   "execution_count": null,
   "metadata": {},
   "outputs": [],
   "source": []
  },
  {
   "cell_type": "code",
   "execution_count": null,
   "metadata": {},
   "outputs": [],
   "source": []
  },
  {
   "cell_type": "code",
   "execution_count": null,
   "metadata": {},
   "outputs": [],
   "source": []
  },
  {
   "cell_type": "code",
   "execution_count": null,
   "metadata": {},
   "outputs": [],
   "source": []
  },
  {
   "cell_type": "code",
   "execution_count": null,
   "metadata": {},
   "outputs": [],
   "source": []
  },
  {
   "cell_type": "code",
   "execution_count": null,
   "metadata": {},
   "outputs": [],
   "source": []
  }
 ],
 "metadata": {
  "kernelspec": {
   "display_name": "Python 3",
   "language": "python",
   "name": "python3"
  },
  "language_info": {
   "codemirror_mode": {
    "name": "ipython",
    "version": 3
   },
   "file_extension": ".py",
   "mimetype": "text/x-python",
   "name": "python",
   "nbconvert_exporter": "python",
   "pygments_lexer": "ipython3",
   "version": "3.6.9"
  }
 },
 "nbformat": 4,
 "nbformat_minor": 4
}
